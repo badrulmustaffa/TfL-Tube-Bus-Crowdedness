{
 "cells": [
  {
   "cell_type": "code",
   "execution_count": 5,
   "metadata": {
    "collapsed": true
   },
   "outputs": [
    {
     "ename": "FileNotFoundError",
     "evalue": "[Errno 2] No such file or directory: '../data/bus_areas_simplified.json'",
     "output_type": "error",
     "traceback": [
      "\u001B[1;31m---------------------------------------------------------------------------\u001B[0m",
      "\u001B[1;31mFileNotFoundError\u001B[0m                         Traceback (most recent call last)",
      "\u001B[1;32m<ipython-input-5-0ce13e089c06>\u001B[0m in \u001B[0;36m<module>\u001B[1;34m\u001B[0m\n\u001B[0;32m     64\u001B[0m     \u001B[1;32mreturn\u001B[0m \u001B[0mfig\u001B[0m\u001B[1;33m\u001B[0m\u001B[1;33m\u001B[0m\u001B[0m\n\u001B[0;32m     65\u001B[0m \u001B[1;33m\u001B[0m\u001B[0m\n\u001B[1;32m---> 66\u001B[1;33m \u001B[0mCreateBorders\u001B[0m\u001B[1;33m(\u001B[0m\u001B[1;34m'Bus'\u001B[0m\u001B[1;33m,\u001B[0m \u001B[1;34m'Bayswater, Notting Hill Gate'\u001B[0m\u001B[1;33m,\u001B[0m \u001B[1;34m'Tower Hill'\u001B[0m\u001B[1;33m)\u001B[0m\u001B[1;33m\u001B[0m\u001B[1;33m\u001B[0m\u001B[0m\n\u001B[0m",
      "\u001B[1;32m<ipython-input-5-0ce13e089c06>\u001B[0m in \u001B[0;36mCreateBorders\u001B[1;34m(mean, start, end)\u001B[0m\n\u001B[0;32m     21\u001B[0m     \u001B[1;32mif\u001B[0m \u001B[1;34m'Tube'\u001B[0m \u001B[1;32min\u001B[0m \u001B[0mmean\u001B[0m\u001B[1;33m:\u001B[0m\u001B[1;33m\u001B[0m\u001B[1;33m\u001B[0m\u001B[0m\n\u001B[0;32m     22\u001B[0m         \u001B[0mjson_file\u001B[0m \u001B[1;33m=\u001B[0m \u001B[1;34m'../data/tube_areas_simplified.json'\u001B[0m\u001B[1;33m\u001B[0m\u001B[1;33m\u001B[0m\u001B[0m\n\u001B[1;32m---> 23\u001B[1;33m     \u001B[1;32mwith\u001B[0m \u001B[0mopen\u001B[0m\u001B[1;33m(\u001B[0m\u001B[0mjson_file\u001B[0m\u001B[1;33m)\u001B[0m \u001B[1;32mas\u001B[0m \u001B[0mjsonfile\u001B[0m\u001B[1;33m:\u001B[0m\u001B[1;33m\u001B[0m\u001B[1;33m\u001B[0m\u001B[0m\n\u001B[0m\u001B[0;32m     24\u001B[0m         \u001B[0mgeojson\u001B[0m \u001B[1;33m=\u001B[0m \u001B[0mjson\u001B[0m\u001B[1;33m.\u001B[0m\u001B[0mload\u001B[0m\u001B[1;33m(\u001B[0m\u001B[0mjsonfile\u001B[0m\u001B[1;33m)\u001B[0m\u001B[1;33m\u001B[0m\u001B[1;33m\u001B[0m\u001B[0m\n\u001B[0;32m     25\u001B[0m \u001B[1;33m\u001B[0m\u001B[0m\n",
      "\u001B[1;31mFileNotFoundError\u001B[0m: [Errno 2] No such file or directory: '../data/bus_areas_simplified.json'"
     ]
    }
   ],
   "source": [
    "import pandas as pd\n",
    "import numpy as np\n",
    "import plotly.graph_objects as go\n",
    "import plotly.express as px\n",
    "import json\n",
    "\n",
    "def AreaList(mean):\n",
    "    \"\"\"''' Generating a list of tube stations for Dash Dropdown '''\"\"\"\n",
    "    data = pd.ExcelFile('../data/Tube_and_Bus_Route_Stops.xls')\n",
    "    sheet = 'Bus Regions Simplified'\n",
    "    if 'Tube' in mean:\n",
    "        sheet = 'Tube Regions Simplified'\n",
    "    area_list = pd.read_excel(data, sheet_name=sheet, skiprows=1)\n",
    "    return area_list\n",
    "\n",
    "\n",
    "def CreateBorders(mean, start, end):\n",
    "    \"\"\" Inserting the transportation mode as mean, start point and end point and returning the \"\"\"\n",
    "    # Setting the json for appropriate mean and opening the file\n",
    "    json_file = '../data/bus_areas_simplified.json'\n",
    "    if 'Tube' in mean:\n",
    "        json_file = '../data/tube_areas_simplified.json'\n",
    "    with open(json_file) as jsonfile:\n",
    "        geojson = json.load(jsonfile)\n",
    "\n",
    "    mapbox_access_token = \"pk.eyJ1IjoiYmFkcnVsbXVzdGFmZmEiLCJhIjoiY2ttMzE1cXgzNGJ0dzJ1bnc0Z3hkZnBpbSJ9.\" \\\n",
    "                          \"GEDuGnidtzWvTiXPCGIX4w\"\n",
    "\n",
    "    if start is None:\n",
    "        start = ''\n",
    "\n",
    "    if end is None:\n",
    "        end = ''\n",
    "\n",
    "    # Create dataframe from dataset\n",
    "    df = AreaList(mean)[{'Group stations'}].set_index('Group stations')\n",
    "    df[\"Status\"] = np.nan\n",
    "    df.loc[start, 'Status'] = 'Start'\n",
    "    df.loc[end, 'Status'] = 'End'\n",
    "    df = df.reset_index().dropna()\n",
    "\n",
    "    fig = px.choropleth_mapbox(df, geojson=geojson, locations='Group stations',\n",
    "                               color='Status',\n",
    "                               color_discrete_map={'Start': 'blue', 'End': 'red'},\n",
    "                               mapbox_style=\"open-street-map\",\n",
    "                               featureidkey=\"properties.id\",\n",
    "                               opacity=1,\n",
    "                               labels={'Status': 'Legend'})\n",
    "\n",
    "    fig.update_layout(margin={\"r\": 0, \"t\": 0, \"l\": 0, \"b\": 10},\n",
    "                      autosize=True,\n",
    "                      showlegend=False,\n",
    "                      mapbox=go.layout.Mapbox(\n",
    "                          dict(accesstoken=mapbox_access_token),\n",
    "                          zoom=11, center={\"lat\": 51.5087, \"lon\": -0.1346},\n",
    "                          layers=[{\n",
    "                              'sourcetype': 'geojson',\n",
    "                              'source': geojson,\n",
    "                              'type': 'line',\n",
    "                          }]\n",
    "                      ),\n",
    "                      mapbox_style=\"streets\"\n",
    "                      )\n",
    "    return fig\n",
    "\n",
    "CreateBorders('Bus', 'Bayswater, Notting Hill Gate', 'Tower Hill')"
   ]
  }
 ],
 "metadata": {
  "kernelspec": {
   "display_name": "Python 3",
   "language": "python",
   "name": "python3"
  },
  "language_info": {
   "codemirror_mode": {
    "name": "ipython",
    "version": 2
   },
   "file_extension": ".py",
   "mimetype": "text/x-python",
   "name": "python",
   "nbconvert_exporter": "python",
   "pygments_lexer": "ipython2",
   "version": "2.7.6"
  }
 },
 "nbformat": 4,
 "nbformat_minor": 0
}